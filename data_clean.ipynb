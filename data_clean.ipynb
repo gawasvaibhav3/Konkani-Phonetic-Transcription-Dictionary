{
 "cells": [
  {
   "cell_type": "code",
   "execution_count": 1,
   "metadata": {},
   "outputs": [
    {
     "name": "stdout",
     "output_type": "stream",
     "text": [
      "20085\n",
      "20085\n"
     ]
    }
   ],
   "source": [
    "import glob\n",
    "import re\n",
    "\n",
    "\n",
    "# set the directory path\n",
    "directory_path = \"TEXT_FILES/Female/16To20\"\n",
    "\n",
    "# get a list of all files in the directory\n",
    "all_files = glob.glob(directory_path + \"/*\")\n",
    "\n",
    "# filter the list to only include text files\n",
    "text_files = [file for file in all_files if file.endswith(\".txt\")]\n",
    "\n",
    "counter1=0\n",
    "counter2=0\n",
    "\n",
    "# iterate through the text files\n",
    "for file_path in text_files:\n",
    "    with open(file_path, \"r\") as file:\n",
    "\n",
    "        start_line_number = 48\n",
    "\n",
    "        lines = file.readlines()\n",
    "\n",
    "        # slice the list to extract the desired lines\n",
    "        lines_to_print = lines[start_line_number-1:]\n",
    "\n",
    "        # print the lines\n",
    "        for line in lines_to_print:\n",
    "            line1=''\n",
    "            line1+=line.replace(\"'\",'').replace(\"र्‍यां\",'र्यां').replace(\"!\",'').replace(\"{\",'').replace(\"}\",'').replace(\"(\",'').replace(\")\",'').replace('1','').replace('2','').replace('3','').replace('4','').replace('5','').replace('6','').replace('7','').replace('8','').replace('9','').replace('0','').replace('.','').replace(',','').replace('?','').replace('TEXT TRANSLITERATION','').replace(':','').replace('‘','').replace('’','')\n",
    "\n",
    "\n",
    "            pattern1 = re.compile(r'[\\u0900-\\u097F]+')\n",
    "            pattern2 = re.compile(r'[A-Za-z]+')\n",
    "\n",
    "            matches1 = pattern1.findall(line1)\n",
    "            matches2 = pattern2.findall(line1)\n",
    "\n",
    "            devanagari_text = ' '.join(matches1)\n",
    "            english_text = ' '.join(matches2)\n",
    "\n",
    "            #print(devanagari_text)\n",
    "            #print(english_text)\n",
    "\n",
    "            word1=devanagari_text.split()\n",
    "            word2=english_text.split()\n",
    "\n",
    "            \n",
    "            for x in word1:\n",
    "                with open('output_hi_2.txt', 'a') as f:\n",
    "                    f.write(x+ '\\t' + '\\n')\n",
    "                counter1+=1\n",
    "            \n",
    "            for x in word2:\n",
    "                with open('output_en_2.txt', 'a') as f:\n",
    "                    f.write(x+ '\\n')\n",
    "                counter2+=1\n",
    "                \n",
    "\n",
    "print(counter1)\n",
    "print(counter2)\n",
    "\n",
    "\n",
    "                 \n",
    "\n"
   ]
  }
 ],
 "metadata": {
  "kernelspec": {
   "display_name": "base",
   "language": "python",
   "name": "python3"
  },
  "language_info": {
   "codemirror_mode": {
    "name": "ipython",
    "version": 3
   },
   "file_extension": ".py",
   "mimetype": "text/x-python",
   "name": "python",
   "nbconvert_exporter": "python",
   "pygments_lexer": "ipython3",
   "version": "3.9.13"
  },
  "orig_nbformat": 4
 },
 "nbformat": 4,
 "nbformat_minor": 2
}
